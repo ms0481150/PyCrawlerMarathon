{
 "cells": [
  {
   "cell_type": "markdown",
   "metadata": {},
   "source": [
    "### 尋找一個網站是有作 Header 檢查的（Hint: 有加跟沒有加回傳結果不一樣）"
   ]
  },
  {
   "cell_type": "code",
   "execution_count": 1,
   "metadata": {},
   "outputs": [
    {
     "name": "stdout",
     "output_type": "stream",
     "text": [
      "<!doctype html>\n",
      "<html lang=\"zh-tw\">\n",
      "<head>\n",
      "<meta charset=\"utf-8\">\n",
      "<meta name=\"viewport\" content=\"width=device-width; initial-scale=1.0; maximum-scale=1.0; user-scalable=0;\">\n",
      "<title>巴哈姆特電玩資訊站 -- 系統忙碌中</title>\n",
      "<script>!function(e){var n,o,t=!1;\"function\"==typeof define&&define.amd&&(define(\"js.cookie-2.1.4\",e),t=!0),\"object\"==typeof exports&&(module.exports=e(),t=!0),t||(n=window.Cookies,(o=window.Cookies=e()).noConflict=function(){return window.Cookies=n,o})}(function(){function g(){for(var e=0,n={};e<arguments.length;e++){var o,t=arguments[e];for(o in t)n[o]=t[o]}return n}return function e(l){function C(e,n,o){var t,r;if(\"undefined\"!=typeof document){if(1<arguments.length){\"number\"==typeof(o=g({path:\"/\"},C.defaults,o)).expires&&((r=new Date).setMilliseconds(r.getMilliseconds()+864e5*o.expires),o.expires=r),o.expires=o.expires?o.expires.toUTCString():\"\";try{t=JSON.stringify(n),/^[\\{\\[]/.test(t)&&(n=t)}catch(e){}n=l.write?l.write(n,e):encodeURIComponent(String(n)).replace(/%(23|24|26|2B|\n"
     ]
    }
   ],
   "source": [
    "import requests\n",
    "\n",
    "url = \"https://www.gamer.com.tw/\"\n",
    "response = requests.get(url=url)\n",
    "response.encoding = \"utf-8\"\n",
    "print(response.text[:1000])"
   ]
  },
  {
   "cell_type": "markdown",
   "metadata": {},
   "source": [
    "### 用上述網站說明該如何判斷 Header 中必須加上哪些資料才會正確\n"
   ]
  },
  {
   "cell_type": "code",
   "execution_count": 2,
   "metadata": {},
   "outputs": [
    {
     "name": "stdout",
     "output_type": "stream",
     "text": [
      "<!DOCTYPE html>\n",
      "<html lang=\"zh-Hant-TW\">\n",
      "<head>\n",
      "<meta charset=\"UTF-8\">\n",
      "<meta name=\"viewport\" content=\"width=device-width, initial-scale=1.0\">\n",
      "<meta name=\"keywords\" content=\"遊戲,動漫,動畫,漫畫,輕小說,線上遊戲,手機遊戲,手遊,Android,iOS,APP,PS4,PS5,討論區,論壇,\">\n",
      "<meta name=\"description\" content=\"華人最大動漫及遊戲社群網站，提供 ACG 每日最新新聞、熱門排行榜，以及豐富的討論交流空間，還有精采的個人影音實況、部落格文章。\">\n",
      "<title>巴哈姆特電玩資訊站</title>\n",
      "<meta property=\"og:url\" content=\"https://www.gamer.com.tw\" />\n",
      "<meta property=\"og:title\" content=\"巴哈姆特電玩資訊站\" />\n",
      "<meta property=\"og:description\" content=\"華人最大動漫及遊戲社群網站，提供 ACG 每日最新新聞、熱門排行榜，以及豐富的討論交流空間，還有精采的個人影音實況、部落格文章。\">\n",
      "<meta property=\"fb:app_id\" content=\"668497826514848\">\n",
      "<meta property=\"og:image\" content=\"https://i2.bahamut.com.tw/bahaLOGO_1200x630.jpg\" />\n",
      "<meta name=\"thumbnail\" content=\"https://i2.bahamut.com.tw/bahaLOGO_1200x630.jpg\" />\n",
      "<link rel=\"canonical\" href=\"https://www.gamer.com.tw/\">\n",
      "<link rel=\"alternate\" media=\"only screen and (max-width: 640px)\" href=\"https://m.gamer.com.tw/\">\n",
      "<link rel=\"stylesheet\" href=\"https://font\n"
     ]
    }
   ],
   "source": [
    "# 加入user-agent即會顯示正確\n",
    "\n",
    "headers = {\n",
    "    \"user-agent\": \"Chrome/96.0.4664.110\"\n",
    "}\n",
    "response = requests.get(url=url, headers=headers)\n",
    "response.encoding = \"utf-8\"\n",
    "print(response.text[:1000])"
   ]
  },
  {
   "cell_type": "code",
   "execution_count": null,
   "metadata": {},
   "outputs": [],
   "source": []
  }
 ],
 "metadata": {
  "kernelspec": {
   "display_name": "Python 3",
   "language": "python",
   "name": "python3"
  },
  "language_info": {
   "codemirror_mode": {
    "name": "ipython",
    "version": 3
   },
   "file_extension": ".py",
   "mimetype": "text/x-python",
   "name": "python",
   "nbconvert_exporter": "python",
   "pygments_lexer": "ipython3",
   "version": "3.9.7"
  }
 },
 "nbformat": 4,
 "nbformat_minor": 2
}
