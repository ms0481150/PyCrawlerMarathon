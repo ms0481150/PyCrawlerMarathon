{
 "cells": [
  {
   "cell_type": "code",
   "execution_count": 3,
   "metadata": {},
   "outputs": [],
   "source": [
    "import scrapy\n",
    "from scrapy_demo.items import ScrapyDemoItem"
   ]
  },
  {
   "cell_type": "code",
   "execution_count": 4,
   "metadata": {},
   "outputs": [],
   "source": [
    "class EttodaySpider(scrapy.Spider):\n",
    "    name = 'ettoday'\n",
    "    allowed_domains = ['www.ettoday.net']\n",
    "    start_urls = ['https://www.ettoday.net/news/20201004/1824032.htm',\n",
    "                  'https://www.ettoday.net/news/20201009/1826868.htm']\n",
    "\n",
    "    def parse(self, response):\n",
    "        #item = ScrapyDemoItem()\n",
    "        title = response.xpath('//title/text()').get()\n",
    "        content = response.xpath('//div[@itemprop=\"articleBody\"]//p/text()').getall()\n",
    "        print(title)\n",
    "        print(content)"
   ]
  },
  {
   "cell_type": "markdown",
   "metadata": {},
   "source": [
    "![demo](https://i.imgur.com/j9ibx4C.png)"
   ]
  }
 ],
 "metadata": {
  "interpreter": {
   "hash": "d15be550ff1de484891e07a12ec761e7964c50a27d22b0326217da8277522cd7"
  },
  "kernelspec": {
   "display_name": "Python 3.9.7 64-bit ('crawler': conda)",
   "language": "python",
   "name": "python3"
  },
  "language_info": {
   "codemirror_mode": {
    "name": "ipython",
    "version": 3
   },
   "file_extension": ".py",
   "mimetype": "text/x-python",
   "name": "python",
   "nbconvert_exporter": "python",
   "pygments_lexer": "ipython3",
   "version": "3.9.7"
  },
  "orig_nbformat": 4
 },
 "nbformat": 4,
 "nbformat_minor": 2
}
