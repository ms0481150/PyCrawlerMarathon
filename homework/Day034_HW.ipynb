{
 "cells": [
  {
   "cell_type": "markdown",
   "metadata": {},
   "source": [
    "# 加速：多線程爬蟲\n",
    "\n",
    "\n",
    "\n",
    "* 了解知乎 API 使用方式與回傳內容\n",
    "* 撰寫程式存取 API 且添加標頭"
   ]
  },
  {
   "cell_type": "markdown",
   "metadata": {},
   "source": [
    "## 作業目標\n",
    "\n",
    "* 找一個之前實作過的爬蟲改用多線程改寫，比較前後時間的差異。\n",
    "\n",
    "\n",
    "\n"
   ]
  },
  {
   "cell_type": "code",
   "execution_count": 24,
   "metadata": {},
   "outputs": [
    {
     "data": {
      "text/plain": [
       "8752"
      ]
     },
     "execution_count": 24,
     "metadata": {},
     "output_type": "execute_result"
    },
    {
     "name": "stdout",
     "output_type": "stream",
     "text": [
      "Thread-1  =>  0\n",
      "Thread-1  =>  2\n",
      "Thread-2  =>  1\n",
      "Thread-1  =>  4\n",
      "Thread-2  =>  3\n"
     ]
    }
   ],
   "source": [
    "import _thread\n",
    "import time\n",
    "\n",
    "def print_time( threadName, data, delay):\n",
    "    for d in data:\n",
    "        time.sleep(delay)\n",
    "        print(threadName, ' => ', d)\n",
    "\n",
    "_thread.start_new_thread( print_time, (\"Thread-1\", range(0, 5, 2), 2, ) )\n",
    "_thread.start_new_thread( print_time, (\"Thread-2\", range(1, 5, 2), 5, ) )"
   ]
  },
  {
   "cell_type": "code",
   "execution_count": 25,
   "metadata": {},
   "outputs": [
    {
     "name": "stdout",
     "output_type": "stream",
     "text": [
      "3.5580501556396484\n"
     ]
    }
   ],
   "source": [
    "import requests\n",
    "import time\n",
    "urls = [\"https://www.bookwalker.com.tw/product/122041\", \"https://www.bookwalker.com.tw/product/110997\", \"https://www.bookwalker.com.tw/product/88730\",\n",
    "        \"https://www.bookwalker.com.tw/product/123292\", \"https://www.bookwalker.com.tw/product/110461\"]\n",
    "\n",
    "start = time.time()\n",
    "\n",
    "for url in urls:\n",
    "    requests.get(url)\n",
    "\n",
    "finish = time.time()\n",
    "print(finish - start)"
   ]
  },
  {
   "cell_type": "code",
   "execution_count": 28,
   "metadata": {},
   "outputs": [
    {
     "name": "stdout",
     "output_type": "stream",
     "text": [
      "0.0009756088256835938\n",
      "Thread-2  =>  https://www.bookwalker.com.tw/product/123292\n",
      "Thread-1  =>  https://www.bookwalker.com.tw/product/122041\n",
      "Thread-1  =>  https://www.bookwalker.com.tw/product/110997\n",
      "Thread-2  =>  https://www.bookwalker.com.tw/product/110461\n",
      "Thread-1  =>  https://www.bookwalker.com.tw/product/88730\n"
     ]
    }
   ],
   "source": [
    "start = time.time()\n",
    "\n",
    "def crawler_bookwalker(threadName, urls):\n",
    "    for url in urls:\n",
    "        requests.get(url)\n",
    "        #time.sleep(delay)\n",
    "        print(threadName, ' => ', url)\n",
    "\n",
    "_thread.start_new_thread( crawler_bookwalker, (\"Thread-1\", urls[:3]) )\n",
    "_thread.start_new_thread( crawler_bookwalker, (\"Thread-2\", urls[3:]) )\n",
    "\n",
    "finish = time.time()\n",
    "print(finish - start)"
   ]
  }
 ],
 "metadata": {
  "colab": {
   "name": "homework.ipynb",
   "provenance": []
  },
  "kernelspec": {
   "display_name": "Python 3",
   "language": "python",
   "name": "python3"
  },
  "language_info": {
   "codemirror_mode": {
    "name": "ipython",
    "version": 3
   },
   "file_extension": ".py",
   "mimetype": "text/x-python",
   "name": "python",
   "nbconvert_exporter": "python",
   "pygments_lexer": "ipython3",
   "version": "3.9.7"
  }
 },
 "nbformat": 4,
 "nbformat_minor": 1
}
