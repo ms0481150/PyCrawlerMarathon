{
 "cells": [
  {
   "cell_type": "markdown",
   "metadata": {},
   "source": [
    "![Terminal](https://i.imgur.com/GpLkfLU.png)\n",
    "![folder](https://i.imgur.com/xFbmz2p.png)"
   ]
  }
 ],
 "metadata": {
  "interpreter": {
   "hash": "d15be550ff1de484891e07a12ec761e7964c50a27d22b0326217da8277522cd7"
  },
  "kernelspec": {
   "display_name": "Python 3.9.7 64-bit ('crawler': conda)",
   "language": "python",
   "name": "python3"
  },
  "language_info": {
   "name": "python",
   "version": "3.9.7"
  },
  "orig_nbformat": 4
 },
 "nbformat": 4,
 "nbformat_minor": 2
}
