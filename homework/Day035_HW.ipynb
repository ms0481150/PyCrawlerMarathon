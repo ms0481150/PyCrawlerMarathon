{
 "cells": [
  {
   "cell_type": "markdown",
   "metadata": {},
   "source": [
    "## 作業目標\n",
    "\n",
    "* 比較一下非同步爬蟲跟多線程爬蟲的差異是什麼？各自的優缺點為何？"
   ]
  },
  {
   "cell_type": "code",
   "execution_count": 1,
   "metadata": {
    "scrolled": true
   },
   "outputs": [
    {
     "name": "stdout",
     "output_type": "stream",
     "text": [
      "crawl target: https://www.bookwalker.com.tw/\n",
      "Normal total time: 6.5338990688323975\n"
     ]
    }
   ],
   "source": [
    "# normal\n",
    "\n",
    "import requests \n",
    "import time\n",
    "\n",
    "URL = \"https://www.bookwalker.com.tw/\"\n",
    "NUM = 10\n",
    "\n",
    "def normal(URL, NUM):\n",
    "    for i in range(NUM):\n",
    "        response = requests.get(url=URL)\n",
    "        result = response.url\n",
    "    \n",
    "    print(\"crawl target: {}\".format(result))\n",
    "\n",
    "t1 = time.time()\n",
    "normal(URL, NUM)\n",
    "print(\"Normal total time:\", time.time()-t1)"
   ]
  },
  {
   "cell_type": "code",
   "execution_count": 2,
   "metadata": {},
   "outputs": [
    {
     "name": "stdout",
     "output_type": "stream",
     "text": [
      "['https://www.bookwalker.com.tw/', 'https://www.bookwalker.com.tw/', 'https://www.bookwalker.com.tw/', 'https://www.bookwalker.com.tw/', 'https://www.bookwalker.com.tw/', 'https://www.bookwalker.com.tw/', 'https://www.bookwalker.com.tw/', 'https://www.bookwalker.com.tw/', 'https://www.bookwalker.com.tw/', 'https://www.bookwalker.com.tw/']\n",
      "total time:  0.9972765445709229\n"
     ]
    }
   ],
   "source": [
    "# 非同步\n",
    "\n",
    "import asyncio\n",
    "import aiohttp\n",
    "\n",
    "# 有關 \"RuntimeError: This event loop is already running in python\" 錯誤解決辦法:\n",
    "# https://stackoverflow.com/questions/46827007/runtimeerror-this-event-loop-is-already-running-in-python\n",
    "import nest_asyncio\n",
    "nest_asyncio.apply()\n",
    "\n",
    "async def crawl_by_asyncio(session):\n",
    "    response = await session.get(URL)\n",
    "    return str(response.url)\n",
    "\n",
    "async def main(loop, NUM):\n",
    "    async with aiohttp.ClientSession() as session:\n",
    "        tasks = [loop.create_task(crawl_by_asyncio(session)) for i in range(NUM)]\n",
    "        finished, unfinished = await asyncio.wait(tasks)  # 註解。\n",
    "        all_results = [r.result() for r in finished]\n",
    "        print(all_results)\n",
    "# 註解：asyncio.wait()會需要兩個tuple來儲存 \"完成\" & \"待處理\" 的資料。\n",
    "# https://stackoverflow.com/questions/42231161/asyncio-gather-vs-asyncio-wait\n",
    "\n",
    "t1 = time.time()\n",
    "loop = asyncio.get_event_loop()\n",
    "loop.run_until_complete(main(loop, NUM))\n",
    "#loop.close()\n",
    "print(\"total time: \", time.time()-t1)"
   ]
  },
  {
   "cell_type": "code",
   "execution_count": 5,
   "metadata": {},
   "outputs": [
    {
     "name": "stdout",
     "output_type": "stream",
     "text": [
      "https://www.bookwalker.com.tw/\n",
      "https://www.bookwalker.com.tw/\n",
      "https://www.bookwalker.com.tw/\n",
      "https://www.bookwalker.com.tw/\n",
      "https://www.bookwalker.com.tw/\n",
      "https://www.bookwalker.com.tw/\n",
      "https://www.bookwalker.com.tw/\n",
      "https://www.bookwalker.com.tw/\n",
      "https://www.bookwalker.com.tw/\n",
      "https://www.bookwalker.com.tw/\n",
      "0.0029294490814208984\n"
     ]
    }
   ],
   "source": [
    "# 多線程\n",
    "\n",
    "import _thread\n",
    "\n",
    "start = time.time()\n",
    "\n",
    "for i in range(NUM):\n",
    "    _thread.start_new_thread( requests.get, (URL, ))\n",
    "    print(URL)\n",
    "\n",
    "finish = time.time()\n",
    "print(finish - start)"
   ]
  },
  {
   "cell_type": "markdown",
   "metadata": {},
   "source": [
    "* 非同步處理是單線程，相較於多線程需要等待全部完成，比較不會有等待的時間。\n",
    "* 以在[Stackoverflow](https://stackoverflow.com/questions/34680985/what-is-the-difference-between-asynchronous-programming-and-multithreading/34681101#34681101)上看到的一句為例：\n",
    "* > Threading is about workers; asynchrony is about tasks.\n",
    "* 多線程著重在於利用多個threads；非同步著重在於讓單一thread能有效使用。"
   ]
  }
 ],
 "metadata": {
  "colab": {
   "name": "homework.ipynb",
   "provenance": []
  },
  "kernelspec": {
   "display_name": "Python 3",
   "language": "python",
   "name": "python3"
  },
  "language_info": {
   "codemirror_mode": {
    "name": "ipython",
    "version": 3
   },
   "file_extension": ".py",
   "mimetype": "text/x-python",
   "name": "python",
   "nbconvert_exporter": "python",
   "pygments_lexer": "ipython3",
   "version": "3.9.7"
  }
 },
 "nbformat": 4,
 "nbformat_minor": 1
}
