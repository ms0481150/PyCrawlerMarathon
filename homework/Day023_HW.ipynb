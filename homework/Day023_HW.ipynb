{
 "cells": [
  {
   "cell_type": "markdown",
   "metadata": {},
   "source": [
    "# 104人力銀行網站爬蟲練習\n",
    "## 從104人力銀行網站爬取求職公司資訊。"
   ]
  },
  {
   "cell_type": "code",
   "execution_count": 1,
   "metadata": {},
   "outputs": [],
   "source": [
    "import time\n",
    "from bs4 import BeautifulSoup\n",
    "from selenium import webdriver"
   ]
  },
  {
   "cell_type": "markdown",
   "metadata": {},
   "source": [
    "### 首先進入104人力銀行網站：https://www.104.com.tw/cust/list/index/\n",
    "### 在\"地區\"及\"產業\"下拉式選單中，選擇你希望的選項，然後按下\"找公司\"按鈕。"
   ]
  },
  {
   "cell_type": "markdown",
   "metadata": {},
   "source": [
    "### 開啟新網頁後，觀察新的網址內容，把網址複製下來。"
   ]
  },
  {
   "cell_type": "code",
   "execution_count": 2,
   "metadata": {},
   "outputs": [],
   "source": [
    "job_104_url = \"https://www.104.com.tw/company/?indcat=1001000000&page=1&area=6001001000,6001002000,6001005000\""
   ]
  },
  {
   "cell_type": "markdown",
   "metadata": {},
   "source": [
    "### 開始爬取搜尋結果"
   ]
  },
  {
   "cell_type": "code",
   "execution_count": 3,
   "metadata": {},
   "outputs": [
    {
     "name": "stdout",
     "output_type": "stream",
     "text": [
      "第1頁完成\n",
      "第2頁完成\n",
      "第3頁完成\n",
      "第4頁完成\n",
      "第5頁完成\n",
      "第6頁完成\n",
      "第7頁完成\n",
      "第8頁完成\n",
      "第9頁完成\n",
      "第10頁完成\n",
      "已完成全部10頁\n"
     ]
    }
   ],
   "source": [
    "browser = webdriver.Chrome(executable_path=\"./Data/chromedriver\")\n",
    "browser.get(job_104_url)  \n",
    "time.sleep(2)  \n",
    "\n",
    "# 總頁數太多了所以指定要爬的量\n",
    "pages = 10\n",
    "\n",
    "for i in range(pages):\n",
    "    time.sleep(3)  \n",
    "    html = browser.page_source\n",
    "    soup = BeautifulSoup(html, \"lxml\")\n",
    "    company_list = soup.find_all(\"div\", attrs={\"class\":\"info company-list-desktop__cust-info\"})\n",
    "    \n",
    "    for company in company_list:\n",
    "\n",
    "        # 太多了所以寫入檔案來看\n",
    "        company_name = company.a.text\n",
    "        f = open(\"./Data/company_list.txt\", \"a+\", encoding=\"utf-8\")\n",
    "        f.write( company_name + \"\\n\" )\n",
    "        \n",
    "        company_desc = company.find(\"div\", attrs={\"class\":\"info-description\"})\n",
    "        f.write( company_desc.text + \"\\n\" )\n",
    "        f.write( \"--------------------------------------------------------------------------------\" + \"\\n\" )\n",
    "        f.close()\n",
    "\n",
    "    # 下一頁的class\n",
    "    element = browser.find_element_by_class_name(\"jb_icon_right\")\n",
    "    browser.execute_script(\"arguments[0].click();\", element)\n",
    "    time.sleep(3)\n",
    "\n",
    "    # 有關點不到element的問題，使用execute_script解決\n",
    "    # https://blog.csdn.net/WanYu_Lss/article/details/84137519\n",
    "    # https://stackoverflow.com/questions/52273298/what-is-arguments0-while-invoking-execute-script-method-through-webdriver-in\n",
    "\n",
    "    print(\"第{}頁完成\".format(i+1))\n",
    "print(\"已完成全部{}頁\".format(pages))\n",
    "browser.close()    "
   ]
  }
 ],
 "metadata": {
  "kernelspec": {
   "display_name": "Python 3",
   "language": "python",
   "name": "python3"
  },
  "language_info": {
   "codemirror_mode": {
    "name": "ipython",
    "version": 3
   },
   "file_extension": ".py",
   "mimetype": "text/x-python",
   "name": "python",
   "nbconvert_exporter": "python",
   "pygments_lexer": "ipython3",
   "version": "3.9.7"
  }
 },
 "nbformat": 4,
 "nbformat_minor": 2
}
