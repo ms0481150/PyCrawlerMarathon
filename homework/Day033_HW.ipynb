{
 "cells": [
  {
   "cell_type": "markdown",
   "metadata": {
    "colab_type": "text",
    "id": "n-3DZ_r5VoCe"
   },
   "source": [
    "## 作業目標\n",
    "\n",
    "* 目前程式中的 proxy_ips 是手動輸入的，請根據 https://free-proxy-list.net/ 寫一個可自動化抓取可用 Proxy 的 proxy_ips。\n",
    "\n",
    "\n"
   ]
  },
  {
   "cell_type": "code",
   "execution_count": 59,
   "metadata": {},
   "outputs": [],
   "source": [
    "import requests\n",
    "from bs4 import BeautifulSoup\n",
    "import random"
   ]
  },
  {
   "cell_type": "code",
   "execution_count": 60,
   "metadata": {
    "colab": {},
    "colab_type": "code",
    "id": "iny-9heBVoCf"
   },
   "outputs": [],
   "source": [
    "response  = requests.get(\"https://free-proxy-list.net/\")\n",
    "result = BeautifulSoup(response.text, \"html5lib\")\n",
    "#result"
   ]
  },
  {
   "cell_type": "code",
   "execution_count": 61,
   "metadata": {},
   "outputs": [
    {
     "data": {
      "text/plain": [
       "['47.242.227.37',\n",
       " '43.155.64.3',\n",
       " '116.80.84.156',\n",
       " '23.101.8.73',\n",
       " '8.210.220.118',\n",
       " '116.80.49.253',\n",
       " '47.242.242.32',\n",
       " '103.149.162.194',\n",
       " '165.154.92.146',\n",
       " '119.28.181.43',\n",
       " '120.143.18.201',\n",
       " '173.248.248.90',\n",
       " '164.70.119.206',\n",
       " '101.32.223.111',\n",
       " '8.210.238.62',\n",
       " '47.243.68.117',\n",
       " '43.154.74.111',\n",
       " '47.243.135.104',\n",
       " '119.28.136.23',\n",
       " '140.227.151.75',\n",
       " '103.218.240.82',\n",
       " '223.16.216.55',\n",
       " '101.32.204.190',\n",
       " '119.28.143.208',\n",
       " '182.50.104.55',\n",
       " '8.211.154.52',\n",
       " '119.81.189.194',\n",
       " '161.202.226.194',\n",
       " '47.242.25.110']"
      ]
     },
     "execution_count": 61,
     "metadata": {},
     "output_type": "execute_result"
    }
   ],
   "source": [
    "# 把表上的全部IP帶入\n",
    "\n",
    "proxy_ips = []\n",
    "X = result.find(class_=\"table table-striped table-bordered\")\n",
    "\n",
    "for i in X.find_all(\"tr\"):\n",
    "    y = i.find_all(\"td\")\n",
    "    temp = []\n",
    "    for ip in y:\n",
    "        ip_string = ip.text\n",
    "        temp.append(ip_string)\n",
    "        #proxy_ips.append(ip_string)\n",
    "    \n",
    "    # 因為不是所有節點都掛得上去，所以限定比較連得上的地區來連\n",
    "    # 會有空的，過濾掉\n",
    "    if len(temp) != 0:\n",
    "        if (temp[2] == \"JP\") or (temp[2] ==\"HK\"):\n",
    "            #print(temp)\n",
    "            proxy_ips.append(temp[0])\n",
    "\n",
    "proxy_ips  "
   ]
  },
  {
   "cell_type": "code",
   "execution_count": 66,
   "metadata": {
    "colab": {},
    "colab_type": "code",
    "id": "75dIsHjiVoCi"
   },
   "outputs": [
    {
     "name": "stdout",
     "output_type": "stream",
     "text": [
      "Use 119.81.189.194\n",
      "Fail\n",
      "Use 119.28.136.23\n",
      "Fail\n",
      "Use 101.32.204.190\n",
      "Fail\n",
      "Use 103.149.162.194\n",
      "Your IP address: 103.149.162.194\n",
      "Use 165.154.92.146\n",
      "Fail\n",
      "Use 47.243.68.117\n",
      "Fail\n",
      "Use 165.154.92.146\n",
      "Fail\n",
      "Use 161.202.226.194\n",
      "Fail\n",
      "Use 182.50.104.55\n",
      "Fail\n",
      "Use 8.211.154.52\n",
      "Fail\n"
     ]
    }
   ],
   "source": [
    "for i in range(10):\n",
    "    ip = random.choice(proxy_ips)\n",
    "    print('Use', ip)\n",
    "    try:\n",
    "        response = requests.get(\"http://ip.filefab.com/index.php\",\n",
    "                                proxies={'http': ip}, \n",
    "                                timeout=10)\n",
    "        soup = BeautifulSoup(response.text, 'html5lib')\n",
    "        print(soup.find('h1', id='ipd').text.strip())\n",
    "    except:\n",
    "        print('Fail')"
   ]
  }
 ],
 "metadata": {
  "colab": {
   "name": "homework.ipynb",
   "provenance": []
  },
  "kernelspec": {
   "display_name": "Python 3",
   "language": "python",
   "name": "python3"
  },
  "language_info": {
   "codemirror_mode": {
    "name": "ipython",
    "version": 3
   },
   "file_extension": ".py",
   "mimetype": "text/x-python",
   "name": "python",
   "nbconvert_exporter": "python",
   "pygments_lexer": "ipython3",
   "version": "3.9.7"
  }
 },
 "nbformat": 4,
 "nbformat_minor": 1
}
