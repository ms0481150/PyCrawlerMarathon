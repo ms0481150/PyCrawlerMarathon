{
 "cells": [
  {
   "cell_type": "markdown",
   "metadata": {},
   "source": [
    "# PTT 網路爬蟲實作練習\n",
    "\n",
    "\n",
    "* 能夠利用 Request + BeatifulSour 撰寫爬蟲，並存放到合適的資料結構\n"
   ]
  },
  {
   "cell_type": "markdown",
   "metadata": {},
   "source": [
    "## 作業目標\n",
    "\n",
    "根據範例 ，完成以下問題：\n",
    "\n",
    "* ① 印出最新文章的「作者」「標題」「時間」\n",
    "* ② 印出第一頁所有文章的「作者」「標題」「時間」\n"
   ]
  },
  {
   "cell_type": "markdown",
   "metadata": {},
   "source": [
    "### ① 印出最新文章的「作者」「標題」「時間」"
   ]
  },
  {
   "cell_type": "code",
   "execution_count": 1,
   "metadata": {},
   "outputs": [],
   "source": [
    "import requests\n",
    "from bs4 import BeautifulSoup"
   ]
  },
  {
   "cell_type": "code",
   "execution_count": 2,
   "metadata": {},
   "outputs": [],
   "source": [
    "url = \"https://www.ptt.cc/bbs/NBA/index.html\"\n",
    "response = requests.get(url=url)\n",
    "result = BeautifulSoup(response.text, \"html5lib\")"
   ]
  },
  {
   "cell_type": "code",
   "execution_count": 3,
   "metadata": {},
   "outputs": [
    {
     "name": "stdout",
     "output_type": "stream",
     "text": [
      "標題： [花邊] LBJ對西河不防守的表現生氣攤手\n",
      "作者： Wojnarowski\n",
      "時間： 12/14 \n",
      "\n",
      "標題： [BOX ] Suns 95:111 Clippers 數據\n",
      "作者： Rambo\n",
      "時間： 12/14 \n",
      "\n",
      "標題： [情報] NBA Standings (Dec. 14, 2021)\n",
      "作者： guardyo\n",
      "時間： 12/14 \n",
      "\n",
      "標題： [新聞] YYS-柯瑞挑戰紀錄一波三折？勇士飛機故\n",
      "作者： arod1414\n",
      "時間： 12/14 \n",
      "\n",
      "標題： [情報] Jokic:NBA的裁判是世界上最好的\n",
      "作者： WBC5566\n",
      "時間： 12/14 \n",
      "\n",
      "標題： [情報] 15年以來，年度MVP皆小於三十歲\n",
      "作者： hanson90244\n",
      "時間： 12/14 \n",
      "\n",
      "標題： [公告] NBA板主徵選開始\n",
      "作者： pneumo\n",
      "時間： 11/16 \n",
      "\n",
      "標題： [公告] 板規v8.9\n",
      "作者： pneumo\n",
      "時間： 11/22 \n",
      "\n",
      "標題： [情報] SEASON Schedule December 21–22\n",
      "作者： laptic\n",
      "時間： 11/26 \n",
      "\n",
      "標題： [情報] NBA Standings (Dec. 14, 2021)\n",
      "作者： guardyo\n",
      "時間： 12/14 \n",
      "\n"
     ]
    }
   ],
   "source": [
    "for title in result.find_all(class_=\"r-ent\"):\n",
    "    #跳過被刪除的文章\n",
    "    if title.find(class_=\"title\").find(\"a\") == None:\n",
    "        continue\n",
    "    print(\"標題：\", title.find(class_=\"title\").find(\"a\").text)\n",
    "    print(\"作者：\", title.find(class_=\"author\").text)\n",
    "    print(\"時間：\", title.find(class_=\"date\").text, \"\\n\")"
   ]
  },
  {
   "cell_type": "markdown",
   "metadata": {},
   "source": [
    "### ② 印出第一頁所有文章的「作者」「標題」「時間」"
   ]
  },
  {
   "cell_type": "code",
   "execution_count": 4,
   "metadata": {},
   "outputs": [],
   "source": [
    "#PTT第一頁是指對舊的那一頁\n",
    "url = \"https://www.ptt.cc/bbs/NBA/index1.html\"\n",
    "response = requests.get(url=url)\n",
    "result = BeautifulSoup(response.text, \"html5lib\")"
   ]
  },
  {
   "cell_type": "code",
   "execution_count": 5,
   "metadata": {},
   "outputs": [
    {
     "name": "stdout",
     "output_type": "stream",
     "text": [
      "標題： 寫在 NBA 版的第九個球季之前\n",
      "作者： Price\n",
      "時間： 10/31 \n",
      "\n",
      "標題： Re: [問題] 請問為何milicic都沒法上場？？？？\n",
      "作者： SHB\n",
      "時間： 11/16 \n",
      "\n",
      "標題： Re: melo......\n",
      "作者： RickymarU\n",
      "時間： 11/16 \n",
      "\n",
      "標題： [閒聊] penny\n",
      "作者： baoerking\n",
      "時間： 11/18 \n",
      "\n",
      "標題： Re: 灌籃次數排行板\n",
      "作者： chinlingts\n",
      "時間： 11/20 \n",
      "\n",
      "標題： Re: 哇勒大亂鬥~~~~今天這場真是[email protected]@\n",
      "作者： KOC\n",
      "時間： 11/20 \n",
      "\n",
      "標題： [轉錄]（溜馬與活塞）後續發展  ~~by SHB\n",
      "作者： Lyotard\n",
      "時間： 11/20 \n",
      "\n",
      "標題： Re:（溜馬與活塞）後續發展  ~~by SHB\n",
      "作者： BIASONICA\n",
      "時間： 11/20 \n",
      "\n",
      "標題： Re: [請益] 請問nba各隊看板人物...\n",
      "作者： sunnyside\n",
      "時間： 11/20 \n",
      "\n",
      "標題： Re: Good times for Jazz started with Stockton \n",
      "作者： temped\n",
      "時間： 11/23 \n",
      "\n",
      "標題： 十二月轉播表(未定)\n",
      "作者： shanyaochung\n",
      "時間： 11/23 \n",
      "\n",
      "標題： 永遠的溜馬迷\n",
      "作者： todaynow\n",
      "時間： 11/23 \n",
      "\n",
      "標題： [公告] memi0605 浸水桶\n",
      "作者： Lyotard\n",
      "時間： 11/27 \n",
      "\n",
      "標題： 十二月轉播時刻表\n",
      "作者： Motola\n",
      "時間： 11/27 \n",
      "\n",
      "標題： Re: Hill 復活了,那Penny呢?\n",
      "作者： Phatmen\n",
      "時間： 11/29 \n",
      "\n",
      "標題： Re: 不吐不快\n",
      "作者： Phatmen\n",
      "時間： 12/03 \n",
      "\n",
      "標題： Re: 交易的新聞\n",
      "作者： Finley\n",
      "時間： 12/04 \n",
      "\n",
      "標題： Re: [問題] NBA十大最難破的紀錄\n",
      "作者： suendy\n",
      "時間： 12/04 \n",
      "\n",
      "標題： Players of the week\n",
      "作者： Finley\n",
      "時間： 12/07 \n",
      "\n",
      "標題： [交易] 湖人與山貓的球員異動\n",
      "作者： Lyotard\n",
      "時間： 12/07 \n",
      "\n"
     ]
    }
   ],
   "source": [
    "for title in result.find_all(class_=\"r-ent\"):\n",
    "    #跳過被刪除的文章\n",
    "    if title.find(class_=\"title\").find(\"a\") == None:\n",
    "        continue\n",
    "    print(\"標題：\", title.find(class_=\"title\").find(\"a\").text)\n",
    "    print(\"作者：\", title.find(class_=\"author\").text)\n",
    "    print(\"時間：\", title.find(class_=\"date\").text, \"\\n\")"
   ]
  },
  {
   "cell_type": "markdown",
   "metadata": {},
   "source": [
    "### ③ 試著爬爬看其他版的文章"
   ]
  },
  {
   "cell_type": "code",
   "execution_count": 6,
   "metadata": {},
   "outputs": [],
   "source": [
    "#西洽\n",
    "url = \"https://www.ptt.cc/bbs/C_Chat/index.html\"\n",
    "response = requests.get(url=url)\n",
    "result = BeautifulSoup(response.text, \"html5lib\")"
   ]
  },
  {
   "cell_type": "code",
   "execution_count": 7,
   "metadata": {},
   "outputs": [
    {
     "name": "stdout",
     "output_type": "stream",
     "text": [
      "標題： [新聞] 玩家怒控天堂W坑殺 申訴竟回「看不懂中文\n",
      "作者： medama\n",
      "時間： 12/14 \n",
      "\n",
      "標題： [閒聊] 原神自動撿取和FGO寶具SKIP誰比較有可能?\n",
      "作者： Barrel\n",
      "時間： 12/14 \n",
      "\n",
      "標題： Re: [情報] 輝夜姬想讓人告白 237 圖透\n",
      "作者： s386644187\n",
      "時間： 12/14 \n",
      "\n",
      "標題： Re: [閒聊] 為什麼SJW有這麼大的影響力\n",
      "作者： owo0204\n",
      "時間： 12/14 \n",
      "\n",
      "標題： [vtub] HOLOLIVE的AIRANI IOFIFTEEN(アイラニ・\n",
      "作者： dreaminon\n",
      "時間： 12/14 \n",
      "\n",
      "標題： Re: [閒聊] 為什麼SJW有這麼大的影響力\n",
      "作者： wizardfizban\n",
      "時間： 12/14 \n",
      "\n",
      "標題： [輝夜] 子安燕有機會使出燕返嗎 ???\n",
      "作者： qk123\n",
      "時間： 12/14 \n",
      "\n",
      "標題： Re: [漫畫] 酒店牛郎諸葛孔明 70：......贛這三小\n",
      "作者： kid725\n",
      "時間： 12/14 \n",
      "\n",
      "標題： Re: [閒聊] 最近距離感拉近的人\n",
      "作者： LABOYS\n",
      "時間： 12/14 \n",
      "\n",
      "標題： Re: [閒聊] 幼女戰記12-一部真正的大叔戰記\n",
      "作者： dhero\n",
      "時間： 12/14 \n",
      "\n",
      "標題： [閒聊] 被趕出學會的偏激科學家\n",
      "作者： Mayfly\n",
      "時間： 12/14 \n",
      "\n",
      "標題： [閒聊] 喜歡看牙醫的理由\n",
      "作者： yankeefat\n",
      "時間： 12/14 \n",
      "\n",
      "標題： Re: [Vtub] 全台SC第一的的台V公司新人皮不會動正\n",
      "作者： qoo780410\n",
      "時間： 12/14 \n",
      "\n",
      "標題： Re: [閒聊] 為什麼SJW有這麼大的影響力\n",
      "作者： chunlin05\n",
      "時間： 12/14 \n",
      "\n",
      "標題： Re: [閒聊] 為什麼SJW有這麼大的影響力\n",
      "作者： kimisawa\n",
      "時間： 12/14 \n",
      "\n",
      "標題： [Vtub] 天音彼方的運氣也太極端了\n",
      "作者： wizardfizban\n",
      "時間： 12/14 \n",
      "\n",
      "標題： [閒聊] 寄給未來的訊息\n",
      "作者： Baychu\n",
      "時間： 12/14 \n",
      "\n",
      "標題： [閒聊] 水源千鶴被開發會怎麼樣\n",
      "作者： s386644187\n",
      "時間： 12/14 \n",
      "\n",
      "標題： Re: [漫畫] 酒店牛郎諸葛孔明 70：......贛這三小\n",
      "作者： smart0eddie\n",
      "時間： 12/14 \n",
      "\n",
      "標題： [實況] 第601天，30歲辭職 跑去做遊戲好嗎？\n",
      "作者： Dinaya\n",
      "時間： 12/14 \n",
      "\n",
      "標題： [公告] C_Chat板板規 v.16.6\n",
      "作者： laptic\n",
      "時間： 10/23 \n",
      "\n",
      "標題： [公告] 看板活動公告彙整 ＆ 置底推文閒聊區\n",
      "作者： laptic\n",
      "時間：  9/05 \n",
      "\n",
      "標題： [活動][板慶] 希洽十五歲ANSI徵稿\n",
      "作者： zMidTwo5566\n",
      "時間： 12/07 \n",
      "\n",
      "標題： [21秋] 秋番各作品首播時間\n",
      "作者： SaberTheBest\n",
      "時間：  9/13 \n",
      "\n",
      "標題： [討論] 版上未有精華區的作品整理表\n",
      "作者： vm4m06\n",
      "時間： 12/13 \n",
      "\n"
     ]
    }
   ],
   "source": [
    "for title in result.find_all(class_=\"r-ent\"):\n",
    "    #跳過被刪除的文章\n",
    "    if title.find(class_=\"title\").find(\"a\") == None:\n",
    "        continue\n",
    "    print(\"標題：\", title.find(class_=\"title\").find(\"a\").text)\n",
    "    print(\"作者：\", title.find(class_=\"author\").text)\n",
    "    print(\"時間：\", title.find(class_=\"date\").text, \"\\n\")"
   ]
  }
 ],
 "metadata": {
  "kernelspec": {
   "display_name": "Python 3",
   "language": "python",
   "name": "python3"
  },
  "language_info": {
   "codemirror_mode": {
    "name": "ipython",
    "version": 3
   },
   "file_extension": ".py",
   "mimetype": "text/x-python",
   "name": "python",
   "nbconvert_exporter": "python",
   "pygments_lexer": "ipython3",
   "version": "3.9.7"
  }
 },
 "nbformat": 4,
 "nbformat_minor": 2
}
