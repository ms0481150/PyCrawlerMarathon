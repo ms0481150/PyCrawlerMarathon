{
 "cells": [
  {
   "cell_type": "markdown",
   "metadata": {},
   "source": [
    "## 作業目標\n",
    "\n",
    "* 根據範例提供的 API ，完成以下問題：\n",
    "\n",
    "    1. 取出知乎問題發問時間\n",
    "    2. 取出第一筆與最後一筆回答的時間\n",
    "\n",
    "\n",
    "\n"
   ]
  },
  {
   "cell_type": "markdown",
   "metadata": {},
   "source": [
    "### 1.取出知乎問題發問時間"
   ]
  },
  {
   "cell_type": "code",
   "execution_count": 1,
   "metadata": {},
   "outputs": [
    {
     "data": {
      "text/plain": [
       "{'answer_type': 'normal',\n",
       " 'author': {'avatar_url': 'https://pic4.zhimg.com/v2-ca6e7ffc10a0d10edbae635cee82d007_l.jpg?source=1940ef5c',\n",
       "  'avatar_url_template': 'https://pica.zhimg.com/v2-ca6e7ffc10a0d10edbae635cee82d007.jpg?source=1940ef5c',\n",
       "  'badge': [{'description': '已认证账号', 'topics': [], 'type': 'identity'},\n",
       "   {'description': '优秀答主', 'topics': [], 'type': 'best_answerer'}],\n",
       "  'badge_v2': {'detail_badges': [{'description': '2020 新知答主',\n",
       "     'detail_type': 'zhihu_yearly_answerer',\n",
       "     'icon': 'https://pic3.zhimg.com/v2-bf0eec3c31c8e866c468f60eb296696c_l.png',\n",
       "     'night_icon': 'https://pic3.zhimg.com/v2-c724649168d8f9d36d7c3d13140a2594_l.png',\n",
       "     'sources': [{'avatar_path': '',\n",
       "       'avatar_url': '',\n",
       "       'description': '',\n",
       "       'id': '2020',\n",
       "       'name': '',\n",
       "       'priority': 0,\n",
       "       'token': '',\n",
       "       'type': 'year',\n",
       "       'url': ''}],\n",
       "     'title': '新知答主',\n",
       "     'type': 'reward',\n",
       "     'url': ''},\n",
       "    {'description': '数学等 5 个话题下的优秀答主',\n",
       "     'detail_type': 'best_answerer',\n",
       "     'icon': 'https://pic2.zhimg.com/v2-bf0eec3c31c8e866c468f60eb296696c_l.png',\n",
       "     'night_icon': 'https://pic1.zhimg.com/v2-c724649168d8f9d36d7c3d13140a2594_l.png',\n",
       "     'sources': [{'avatar_path': 'v2-351d57389cf50b002a20606caac645cf',\n",
       "       'avatar_url': 'https://pic3.zhimg.com/v2-351d57389cf50b002a20606caac645cf_hd.jpg',\n",
       "       'description': '',\n",
       "       'id': '19554091',\n",
       "       'name': '数学',\n",
       "       'priority': 0,\n",
       "       'token': '19554091',\n",
       "       'type': 'topic',\n",
       "       'url': 'https://www.zhihu.com/topic/19554091'},\n",
       "      {'avatar_path': '6d7dc1d82127396331a952e93fda484e',\n",
       "       'avatar_url': 'https://pic4.zhimg.com/6d7dc1d82127396331a952e93fda484e_hd.jpg',\n",
       "       'description': '',\n",
       "       'id': '19556664',\n",
       "       'name': '科技',\n",
       "       'priority': 0,\n",
       "       'token': '19556664',\n",
       "       'type': 'topic',\n",
       "       'url': 'https://www.zhihu.com/topic/19556664'},\n",
       "      {'avatar_path': 'v2-f94b3093434c09b4501b056d142025e0',\n",
       "       'avatar_url': 'https://pic3.zhimg.com/v2-f94b3093434c09b4501b056d142025e0_hd.jpg',\n",
       "       'description': '',\n",
       "       'id': '19556895',\n",
       "       'name': '科研',\n",
       "       'priority': 0,\n",
       "       'token': '19556895',\n",
       "       'type': 'topic',\n",
       "       'url': 'https://www.zhihu.com/topic/19556895'},\n",
       "      {'avatar_path': 'v2-a4deab1b73004d7c3fda759c7942c53f',\n",
       "       'avatar_url': 'https://pic1.zhimg.com/v2-a4deab1b73004d7c3fda759c7942c53f_hd.jpg',\n",
       "       'description': '',\n",
       "       'id': '19635352',\n",
       "       'name': '自动驾驶',\n",
       "       'priority': 0,\n",
       "       'token': '19635352',\n",
       "       'type': 'topic',\n",
       "       'url': 'https://www.zhihu.com/topic/19635352'},\n",
       "      {'avatar_path': 'v2-c41d10d22173d515740c43c70f885705',\n",
       "       'avatar_url': 'https://pic4.zhimg.com/v2-c41d10d22173d515740c43c70f885705_hd.jpg',\n",
       "       'description': '',\n",
       "       'id': '19551275',\n",
       "       'name': '人工智能',\n",
       "       'priority': 0,\n",
       "       'token': '19551275',\n",
       "       'type': 'topic',\n",
       "       'url': 'https://www.zhihu.com/topic/19551275'}],\n",
       "     'title': '优秀答主',\n",
       "     'type': 'best',\n",
       "     'url': 'https://www.zhihu.com/topic/20054793'},\n",
       "    {'description': '已认证账号',\n",
       "     'detail_type': 'identity_org',\n",
       "     'icon': 'https://pic1.zhimg.com/v2-235258cecb8a0f184c4d38483cd6f6b6_l.png',\n",
       "     'night_icon': 'https://pic3.zhimg.com/v2-45e870b8f0982bcd7537ea4627afbd00_l.png',\n",
       "     'sources': [],\n",
       "     'title': '已认证账号',\n",
       "     'type': 'identity',\n",
       "     'url': 'https://www.zhihu.com/account/verification/intro'}],\n",
       "   'icon': 'https://pic1.zhimg.com/v2-7a1a13d7531f29551f79278e9391b8ee_l.png',\n",
       "   'merged_badges': [{'description': '2020 新知答主',\n",
       "     'detail_type': 'best',\n",
       "     'icon': '',\n",
       "     'night_icon': '',\n",
       "     'sources': [],\n",
       "     'title': '新知答主',\n",
       "     'type': 'best',\n",
       "     'url': ''},\n",
       "    {'description': '已认证账号',\n",
       "     'detail_type': 'identity',\n",
       "     'icon': '',\n",
       "     'night_icon': '',\n",
       "     'sources': [],\n",
       "     'title': '认证',\n",
       "     'type': 'identity',\n",
       "     'url': 'https://www.zhihu.com/account/verification/intro'}],\n",
       "   'night_icon': 'https://pic2.zhimg.com/v2-af71f641951fd5f8b4a7d305288693df_l.png',\n",
       "   'title': '2020 新知答主'},\n",
       "  'gender': -1,\n",
       "  'headline': '',\n",
       "  'id': '36f69162230003d316d0b8a6d8da20ba',\n",
       "  'is_advertiser': False,\n",
       "  'is_org': True,\n",
       "  'is_privacy': False,\n",
       "  'name': '量子位',\n",
       "  'type': 'people',\n",
       "  'url': 'https://www.zhihu.com/api/v4/people/36f69162230003d316d0b8a6d8da20ba',\n",
       "  'url_token': 'liang-zi-wei-48',\n",
       "  'user_type': 'organization'},\n",
       " 'created_time': 1557824412,\n",
       " 'extras': '',\n",
       " 'id': 683070334,\n",
       " 'is_collapsed': False,\n",
       " 'is_copyable': True,\n",
       " 'question': {'created': 1486390229,\n",
       "  'id': 55493026,\n",
       "  'question_type': 'normal',\n",
       "  'relationship': {},\n",
       "  'title': '你们都是怎么学 Python 的？',\n",
       "  'type': 'question',\n",
       "  'updated_time': 1582533957,\n",
       "  'url': 'https://www.zhihu.com/api/v4/questions/55493026'},\n",
       " 'relationship': {'upvoted_followees': []},\n",
       " 'type': 'answer',\n",
       " 'updated_time': 1557824412,\n",
       " 'url': 'https://www.zhihu.com/api/v4/answers/683070334'}"
      ]
     },
     "execution_count": 1,
     "metadata": {},
     "output_type": "execute_result"
    }
   ],
   "source": [
    "import requests\n",
    "import time\n",
    "url = \"https://www.zhihu.com/api/v4/questions/55493026/answers\"\n",
    "\n",
    "headers = {\n",
    "    'user-agent': 'my-app/0.0.1'\n",
    "}\n",
    "\n",
    "response = requests.get(url=url, headers=headers)\n",
    "result = response.json()[\"data\"]\n",
    "result[0]"
   ]
  },
  {
   "cell_type": "code",
   "execution_count": 2,
   "metadata": {},
   "outputs": [
    {
     "name": "stdout",
     "output_type": "stream",
     "text": [
      "發問時間： Mon Feb  6 22:10:29 2017\n"
     ]
    }
   ],
   "source": [
    "#這裡的秒數指的是Unix epoch(Unix time)，從UTC 1970年1月1日0時0分0秒起至現在的總秒數\n",
    "#可以使用time.gmtime()轉換成struct_time或time.ctime()轉換成string_time\n",
    "print(\"發問時間：\", time.ctime(result[0][\"question\"][\"created\"]))\n",
    "\n",
    "\n",
    "#print(time.gmtime(result[0][\"question\"][\"created\"]))\n",
    "    "
   ]
  },
  {
   "cell_type": "markdown",
   "metadata": {},
   "source": [
    "### 2.取出第一筆與最後一筆回答的時間"
   ]
  },
  {
   "cell_type": "code",
   "execution_count": 3,
   "metadata": {},
   "outputs": [
    {
     "name": "stdout",
     "output_type": "stream",
     "text": [
      "第一筆回答時間： Tue May 14 17:00:12 2019\n",
      "最後一筆回答時間： Thu Mar 18 11:31:22 2021\n"
     ]
    }
   ],
   "source": [
    "print(\"第一筆回答時間：\", time.ctime(result[0][\"created_time\"]))\n",
    "print(\"最後一筆回答時間：\", time.ctime(result[-1][\"created_time\"]))"
   ]
  },
  {
   "cell_type": "markdown",
   "metadata": {},
   "source": [
    "#### 上面結果會錯，因為最佳解答會被至頂，所以要先把所有時間抽出來排序再判斷"
   ]
  },
  {
   "cell_type": "code",
   "execution_count": 4,
   "metadata": {},
   "outputs": [
    {
     "name": "stdout",
     "output_type": "stream",
     "text": [
      "[1557824412, 1581236119, 1558226316, 1493693113, 1616038282]\n"
     ]
    }
   ],
   "source": [
    "ans_time = []\n",
    "for t in result:\n",
    "    ans_time.append(t[\"created_time\"])\n",
    "print(ans_time)"
   ]
  },
  {
   "cell_type": "code",
   "execution_count": 5,
   "metadata": {},
   "outputs": [
    {
     "name": "stdout",
     "output_type": "stream",
     "text": [
      "第一筆回答時間： Tue May  2 10:45:13 2017\n",
      "最後一筆回答時間： Thu Mar 18 11:31:22 2021\n"
     ]
    }
   ],
   "source": [
    "print(\"第一筆回答時間：\", time.ctime(min(ans_time)))\n",
    "print(\"最後一筆回答時間：\", time.ctime(max(ans_time)))"
   ]
  }
 ],
 "metadata": {
  "kernelspec": {
   "display_name": "Python 3",
   "language": "python",
   "name": "python3"
  },
  "language_info": {
   "codemirror_mode": {
    "name": "ipython",
    "version": 3
   },
   "file_extension": ".py",
   "mimetype": "text/x-python",
   "name": "python",
   "nbconvert_exporter": "python",
   "pygments_lexer": "ipython3",
   "version": "3.9.7"
  }
 },
 "nbformat": 4,
 "nbformat_minor": 2
}
