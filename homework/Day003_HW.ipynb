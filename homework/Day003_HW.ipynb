{
 "cells": [
  {
   "cell_type": "markdown",
   "metadata": {
    "colab_type": "text",
    "id": "uSf0mVenUdOf"
   },
   "source": [
    "# 利用 Python 存取 API\n",
    "\n",
    "\n",
    "* 了解 Server Client 的架構與溝通方法\n",
    "* 知道 HTTP Request & Response 的內容\n",
    "* 什麼是 API？如何用 Python 程式存取 API 資料\n"
   ]
  },
  {
   "cell_type": "markdown",
   "metadata": {
    "colab_type": "text",
    "id": "FwvxVPZuUdOh"
   },
   "source": [
    "## 作業目標\n",
    "\n",
    "* 比較一下範例檔案中的「r.text」與「json.loads(r.text)」讀出來的內容有什麼差異\n",
    "* 自行尋找一個合適的 API 接口做練習，並且查看其回傳內容\n",
    "    * https://cat-fact.herokuapp.com/facts (來源：https://alexwohlbruck.github.io/cat-facts/)\n",
    "    * http://odata.wra.gov.tw/v4/RealtimeWaterLevel (來源：https://data.gov.tw/dataset/25768)\n",
    "\n"
   ]
  },
  {
   "cell_type": "markdown",
   "metadata": {
    "colab_type": "text",
    "id": "r5GIjwYuUdOi"
   },
   "source": [
    "### 比較一下範例檔案中的「r.text」與「json.loads(r.text)」讀出來的內容有什麼差異"
   ]
  },
  {
   "cell_type": "code",
   "execution_count": 1,
   "metadata": {
    "colab": {},
    "colab_type": "code",
    "id": "sVxW3MTeUdOj",
    "outputId": "a83e3e3b-eb9d-4c6d-d5d2-3a2ef30cee87"
   },
   "outputs": [
    {
     "name": "stdout",
     "output_type": "stream",
     "text": [
      "使用r.test: \n",
      " [{\"id\":\"19106311952\",\"type\":\"PushEvent\",\"actor\":{\"id\":2539292,\"login\":\"wmfgerrit\",\"display_login\":\"w\n",
      "使用json.loads: \n",
      " {'id': '19106311952', 'type': 'PushEvent', 'actor': {'id': 2539292, 'login': 'wmfgerrit', 'display_login': 'wmfgerrit', 'gravatar_id': '', 'url': 'https://api.github.com/users/wmfgerrit', 'avatar_url': 'https://avatars.githubusercontent.com/u/2539292?'}, 'repo': {'id': 186044932, 'name': 'wikimedia/mediawiki-extensions-BlueSpiceSocialArticleActions', 'url': 'https://api.github.com/repos/wikimedia/mediawiki-extensions-BlueSpiceSocialArticleActions'}, 'payload': {'push_id': 8501762877, 'size': 1, 'distinct_size': 1, 'ref': 'refs/heads/REL1_31', 'head': '00ecef1e15ea649b987148be47c5dc2c1f94e726', 'before': '9f1b1582a1ede097a7276e5eb3c42fd89a39cafe', 'commits': [{'sha': '00ecef1e15ea649b987148be47c5dc2c1f94e726', 'author': {'email': 'support@hallowelt.com', 'name': 'root'}, 'message': 'Bump version to 3.2.8', 'distinct': True, 'url': 'https://api.github.com/repos/wikimedia/mediawiki-extensions-BlueSpiceSocialArticleActions/commits/00ecef1e15ea649b987148be47c5dc2c1f94e726'}]}, 'public': True, 'created_at': '2021-11-30T07:38:19Z', 'org': {'id': 56668, 'login': 'wikimedia', 'gravatar_id': '', 'url': 'https://api.github.com/orgs/wikimedia', 'avatar_url': 'https://avatars.githubusercontent.com/u/56668?'}}\n",
      "r.text的資料型態： <class 'str'>\n",
      "json.loads的資料型態： <class 'list'>\n"
     ]
    }
   ],
   "source": [
    "import requests\n",
    "import json\n",
    "import numpy as np\n",
    "import pandas as pd\n",
    "r = requests.get('https://api.github.com/events')\n",
    "\n",
    "j = json.loads(r.text)\n",
    "print(\"使用r.test: \\n\", (r.text)[0:100])\n",
    "print(\"使用json.loads: \\n\", j[0])\n",
    "print(\"r.text的資料型態：\", type(r.text))\n",
    "print(\"json.loads的資料型態：\", type(j))\n",
    "\n",
    "#r.text的內容會以字串儲存，而使用json.loads的方法會使用list儲存"
   ]
  },
  {
   "cell_type": "markdown",
   "metadata": {
    "colab_type": "text",
    "id": "eJwMGD6XUdOn"
   },
   "source": [
    "### 自行尋找一個合適的 API 接口做練習，並且查看其回傳內容\n",
    "\n",
    "* https://cat-fact.herokuapp.com/facts (來源：https://alexwohlbruck.github.io/cat-facts/)\n",
    "* http://odata.wra.gov.tw/v4/RealtimeWaterLevel (來源：https://data.gov.tw/dataset/25768)\n"
   ]
  },
  {
   "cell_type": "code",
   "execution_count": 2,
   "metadata": {
    "colab": {},
    "colab_type": "code",
    "id": "XDvzxwA0UdOn",
    "outputId": "154b29e6-cd0d-48b9-e659-6e9a3f55e274"
   },
   "outputs": [],
   "source": [
    "#每日水庫營運狀況\n",
    "response = requests.get(\"https://data.wra.gov.tw/openAPI/api/OpenData/50C8256D-30C5-4B8D-9B84-2E14D5C6DF71/Data\")\n",
    "result = response.json()[\"responseData\"]"
   ]
  },
  {
   "cell_type": "code",
   "execution_count": 3,
   "metadata": {
    "colab": {},
    "colab_type": "code",
    "id": "RPISC-Y4UdOq"
   },
   "outputs": [
    {
     "name": "stdout",
     "output_type": "stream",
     "text": [
      "<class 'list'>\n"
     ]
    }
   ],
   "source": [
    "print(type(result))"
   ]
  },
  {
   "cell_type": "code",
   "execution_count": 4,
   "metadata": {
    "colab": {},
    "colab_type": "code",
    "id": "H5EyeQRIUdOr"
   },
   "outputs": [
    {
     "name": "stdout",
     "output_type": "stream",
     "text": [
      "水庫名稱、水庫編號、有效蓄水量、紀錄時間\n",
      "石門水庫 10201 20266.1 2021-11-29T00:00:00\n",
      "西勢水庫 10203 43.69 2021-11-29T00:00:00\n",
      "新山水庫 10204 1002 2021-11-29T00:00:00\n",
      "翡翠水庫 10205 33550.5 2021-11-29T00:00:00\n",
      "榮華壩 10206  2021-11-29T00:00:00\n",
      "鳶山堰 10207 439 2021-11-29T00:00:00\n",
      "桂山壩 10209 28.28 2021-11-29T00:00:00\n",
      "三峽攔河堰 10210  2021-11-29T00:00:00\n",
      "青潭堰 10211 69.6 2021-11-29T00:00:00\n",
      "直潭壩 10212 191.89 2021-11-29T00:00:00\n",
      "羅好壩 10213 17.56 2021-11-29T00:00:00\n",
      "阿玉壩 10214 3.87 2021-11-29T00:00:00\n",
      "寶山水庫 10401 503.5 2021-11-29T00:00:00\n",
      "隆恩堰 10404  2021-11-29T00:00:00\n",
      "寶山第二水庫 10405 3147.18 2021-11-29T00:00:00\n",
      "永和山水庫 10501 2998.94 2021-11-29T00:00:00\n",
      "大埔水庫 10503 529.9 2021-11-29T00:00:00\n",
      "明德水庫 10601 1222.0466 2021-11-29T00:00:00\n",
      "羅東攔河堰 10802  2021-11-29T00:00:00\n",
      "鯉魚潭水庫 20101 11446.01 2021-11-29T00:00:00\n",
      "德基水庫 20201 18642 2021-11-29T00:00:00\n",
      "石岡壩 20202 149.31 2021-11-29T00:00:00\n",
      "士林堰 20405 67.03 2021-11-29T00:00:00\n",
      "霧社水庫 20501 3745.83 2021-11-29T00:00:00\n",
      "日月潭水庫 20502 12806.03 2021-11-29T00:00:00\n",
      "集集攔河堰 20503 631.91 2021-11-29T00:00:00\n",
      "明湖下池 20508 1110 2021-11-29T00:00:00\n",
      "湖山水庫 20509 5086.512 2021-11-29T00:00:00\n",
      "仁義潭水庫 30301 2482.25 2021-11-29T00:00:00\n",
      "蘭潭水庫 30302 923.97 2021-11-29T00:00:00\n",
      "內埔子 30306 69 2021-11-29T07:00:00\n",
      "白河水庫 30401 1173.45 2021-11-29T08:00:00\n",
      "德元埤 30403 229.8 2021-11-29T07:00:00\n",
      "烏山頭水庫 30501 7857.9 2021-11-29T07:00:00\n",
      "曾文水庫 30502 50956 2021-11-29T00:00:00\n",
      "南化水庫 30503 9097.9 2021-11-29T00:00:00\n",
      "鏡面水庫 30504 98.3 2021-11-29T00:00:00\n",
      "虎頭埤 30601 106.1 2021-11-29T08:00:00\n",
      "鹽水埤 30602 47.1 2021-11-29T08:00:00\n",
      "澄清湖水庫 30801 262.95 2021-11-29T00:00:00\n",
      "阿公店水庫 30802 1525.893 2021-11-29T00:00:00\n",
      "鳳山水庫 30803 716 2021-11-29T00:00:00\n",
      "高屏溪攔河堰 30901  2021-11-29T00:00:00\n",
      "甲仙攔河堰 31002  2021-11-29T00:00:00\n",
      "牡丹水庫 31201 2651.317 2021-11-29T00:00:00\n",
      "龍鑾潭 31202 334 2021-11-30T00:00:00\n",
      "成功水庫 31301 104 2021-11-30T00:00:00\n",
      "興仁水庫 50102 63.7 2021-11-30T00:00:00\n",
      "東衛水庫 50103 18.5 2021-11-30T00:00:00\n",
      "赤崁水庫 50104 25.45 2021-11-30T00:00:00\n",
      "西安水庫 50105 24 2021-11-30T00:00:00\n",
      "七美水庫 50106 22.84 2021-11-30T00:00:00\n",
      "小池水庫 50108 20.57 2021-11-30T00:00:00\n",
      "烏溝蓄水塘 50109 3.54 2021-11-30T00:00:00\n",
      "太湖水庫 50201 148.1 2021-11-29T00:00:00\n",
      "田埔水庫 50202 48.6 2021-11-29T00:00:00\n",
      "陽明湖水庫 50203 27.6 2021-11-29T00:00:00\n",
      "山西蓄水塘 50204 19 2021-11-29T00:00:00\n",
      "榮湖水庫 50205 36 2021-11-29T00:00:00\n",
      "擎天水庫 50206 23.6 2021-11-29T00:00:00\n",
      "金沙水庫 50207 43.5 2021-11-29T00:00:00\n",
      "蓮湖水庫 50208 5.1 2021-11-29T00:00:00\n",
      "菱湖水庫 50209 8.2 2021-11-29T00:00:00\n",
      "西湖水庫 50210 41.4 2021-11-29T00:00:00\n",
      "金湖水庫 50212 38.1 2021-11-29T00:00:00\n",
      "瓊林水庫 50213 29.3 2021-11-29T00:00:00\n",
      "蘭湖 50214 17.6 2021-11-29T00:00:00\n",
      "勝利水庫 50301 18.1842 2021-11-29T00:00:00\n",
      "邱桂山水庫 50302 3.1539 2021-11-29T00:00:00\n",
      "珠螺水壩 50303 0.3845 2021-11-29T00:00:00\n",
      "儲水沃上壩 50304 2.32 2021-11-29T00:00:00\n",
      "儲水沃水庫 50305 4.1792 2021-11-29T00:00:00\n",
      "津沙水庫 50306 4.5806 2021-11-29T00:00:00\n",
      "津沙1號壩 50307 1.2625 2021-11-29T00:00:00\n",
      "坂里水庫 50308 14.1115 2021-11-29T00:00:00\n",
      "東湧水庫 50309 8.5047 2021-11-29T00:00:00\n",
      "后沃水庫 50310 41.6251 2021-11-29T00:00:00\n"
     ]
    }
   ],
   "source": [
    "print(\"水庫名稱、水庫編號、有效蓄水量、紀錄時間\")\n",
    "for data in result:\n",
    "    print(data[\"ReservoirName\"], data[\"ReservoirIdentifier\"], data[\"EffectiveCapacity\"], data[\"RecordTime\"])"
   ]
  }
 ],
 "metadata": {
  "colab": {
   "name": "homework.ipynb",
   "provenance": []
  },
  "kernelspec": {
   "display_name": "Python 3",
   "language": "python",
   "name": "python3"
  },
  "language_info": {
   "codemirror_mode": {
    "name": "ipython",
    "version": 3
   },
   "file_extension": ".py",
   "mimetype": "text/x-python",
   "name": "python",
   "nbconvert_exporter": "python",
   "pygments_lexer": "ipython3",
   "version": "3.9.7"
  }
 },
 "nbformat": 4,
 "nbformat_minor": 1
}
