{
 "cells": [
  {
   "cell_type": "markdown",
   "metadata": {},
   "source": [
    "# 靜態網頁的資料爬蟲策略\n",
    "\n",
    "\n",
    "* 了解靜態網頁的資料爬蟲策略\n",
    "* 認識適用於靜態網頁爬蟲的相關套件工具：Request\n",
    "* 認識適用於靜態網頁爬蟲的相關套件工具：BeatifulSoup"
   ]
  },
  {
   "cell_type": "markdown",
   "metadata": {},
   "source": [
    "## 作業目標\n",
    "\n",
    "利用 Request + BeatifulSoup 爬取下列兩個網站內容並解析：\n",
    "\n",
    "1. Dcared 網址： https://www.dcard.tw/f\n",
    "2. 知乎： https://www.zhihu.com/explore\n",
    "\n",
    "並且回答下面問題：\n",
    "\n",
    "1. Request 取回之後該怎麼取出資料，資料型態是什麼？\n",
    "2. 為什麼要使用 BeatifulSoup 處理？處理後的型態是什麼？\n",
    "3. 觀察一下知乎回來的資料好像有點怪怪的，該怎麼解決？"
   ]
  },
  {
   "cell_type": "markdown",
   "metadata": {},
   "source": [
    "### 1. Dcard 網址： https://www.dcard.tw/f"
   ]
  },
  {
   "cell_type": "code",
   "execution_count": 1,
   "metadata": {},
   "outputs": [],
   "source": [
    "import requests\n",
    "from bs4 import BeautifulSoup\n"
   ]
  },
  {
   "cell_type": "code",
   "execution_count": 2,
   "metadata": {},
   "outputs": [],
   "source": [
    "url = \"https://www.dcard.tw/f\"\n",
    "response = requests.get(url=url)\n"
   ]
  },
  {
   "cell_type": "code",
   "execution_count": 3,
   "metadata": {},
   "outputs": [
    {
     "name": "stdout",
     "output_type": "stream",
     "text": [
      "<!DOCTYPE html><html lang=\"zh-TW\"><head prefix=\"og: http://ogp.me/ns#\" itemscope=\"\" itemType=\"https:\n",
      "資料型態： <class 'str'>\n"
     ]
    }
   ],
   "source": [
    "result = response.text\n",
    "print(result[:100])\n",
    "print(\"資料型態：\", type(result))\n",
    "#字串不利於解析內容\n"
   ]
  },
  {
   "cell_type": "code",
   "execution_count": 4,
   "metadata": {},
   "outputs": [
    {
     "name": "stdout",
     "output_type": "stream",
     "text": [
      "處理後型態為： <class 'bs4.BeautifulSoup'>\n"
     ]
    }
   ],
   "source": [
    "soup  = BeautifulSoup(result)\n",
    "#print(soup)\n",
    "print(\"處理後型態為：\",type(soup))\n",
    "#bs4會將處理的頁面建立樹狀結構，以利提取內容"
   ]
  },
  {
   "cell_type": "code",
   "execution_count": 5,
   "metadata": {},
   "outputs": [
    {
     "name": "stdout",
     "output_type": "stream",
     "text": [
      "毛躁長髮一刀剪下去\n",
      "朋友懷孕明示我要送禮物\n",
      "發票中獎但女友居然暴怒了...\n",
      "醫者—紅眼\n",
      "注意⚠️ 你已被熊熊貓貓拜訪啦\n",
      "最後一路極短髮到婚禮🤣\n",
      "#日常穿搭 千萬不要穿棋盤格出門\n",
      "#日常穿搭 開始變成辦公室社畜的上班穿搭🥲\n",
      "#分享 防彈個人IG出爐了\n",
      "別哭了，我心疼 14（姐姐視角\n",
      "價值觀不同 但我真的很愛她\n",
      "懷孕半夜餓到翻垃圾桶🙄\n",
      "為了結婚拚老命瘦！\n",
      "#情報 BTS 個人Instagram帳號開通、公告年末放長假、Vogue X GQ 雜誌預告\n",
      "#閒聊 「韓網熱帖」喜歡女偶像的人現在會一直看到的演算法推薦影片\n",
      "先生…我只是餵藥而已ಥ_ಥ\n",
      "男友的分手草稿\n",
      "（微更）3個月，63-53減重史（有露臉）\n",
      "這是人類顏值天花板嗎？\n",
      "當箱子和床都好舒服怎麼辦\n",
      "成功說服房東讓我養貓貓\n",
      "#分享 Uniqlo感謝祭✨買了些什麼\n",
      "等年終離職\n",
      "鬼氏企業2021\n",
      "最近的OOTD📉🔍\n",
      "#新聞 IU最近好像很奇怪！？\n",
      "#情報 BIGBANG太陽當爸爸了！\n",
      "（更）外食真的好可怕\n",
      "古娃娃餅乾的公司營收4千萬\n",
      "如果你是女生2* -不是，我一樣幹你\n"
     ]
    }
   ],
   "source": [
    "#提取標題例子：\n",
    "title = soup.find_all(\"h2\")\n",
    "for txt in title:\n",
    "    print(txt.a.text)"
   ]
  },
  {
   "cell_type": "markdown",
   "metadata": {},
   "source": [
    "### 2. 知乎： https://www.zhihu.com/explore"
   ]
  },
  {
   "cell_type": "code",
   "execution_count": 6,
   "metadata": {},
   "outputs": [
    {
     "name": "stdout",
     "output_type": "stream",
     "text": [
      "<html>\n",
      "<head><title>403 Forbidden</title></head>\n",
      "<body bgcolor=\"white\">\n",
      "<center><h1>403 Forbidden</h1></center>\n",
      "<hr><center>openresty</center>\n",
      "</body>\n",
      "</html>\n",
      "\n"
     ]
    }
   ],
   "source": [
    "url = \"https://www.zhihu.com/explore\"\n",
    "response = requests.get(url)\n",
    "response.encoding = 'utf-8'\n",
    "\n",
    "print(response.text[0:600])"
   ]
  },
  {
   "cell_type": "markdown",
   "metadata": {},
   "source": [
    "### 3. 觀察一下知乎回來的資料好像有點怪怪的，該怎麼解決？"
   ]
  },
  {
   "cell_type": "code",
   "execution_count": 7,
   "metadata": {},
   "outputs": [
    {
     "name": "stdout",
     "output_type": "stream",
     "text": [
      "<!doctype html>\n",
      "<html lang=\"zh\" data-hairline=\"true\" data-theme=\"light\"><head><meta charSet=\"utf-8\"/><title data-react-helmet=\"true\">发现 - 知乎</title><meta name=\"viewport\" content=\"width=device-width,initial-scale=1,maximum-scale=1\"/><meta name=\"renderer\" content=\"webkit\"/><meta name=\"force-rendering\" content=\"webkit\"/><meta http-equiv=\"X-UA-Compatible\" content=\"IE=edge,chrome=1\"/><meta name=\"google-site-verification\" content=\"FTeR0c8arOPKh8c5DYh_9uu98_zJbaWw53J-Sch9MTg\"/><meta name=\"description\" property=\"og:description\" content=\"知乎，中文互联网高质量的问答社区和创作者聚集的原创内容平台，于 2011 年 1 月正式上线，以「让人们更好地分享知识、经验和见解\n"
     ]
    }
   ],
   "source": [
    "import requests\n",
    "url = \"https://www.zhihu.com/explore\"\n",
    "\n",
    "headers = {\n",
    "    'user-agent': 'my-app/0.0.1'\n",
    "}\n",
    "\n",
    "r = requests.get(url=url, headers=headers)\n",
    "\n",
    "r.encoding = 'utf-8'\n",
    "print(r.text[0:600])"
   ]
  }
 ],
 "metadata": {
  "kernelspec": {
   "display_name": "Python 3",
   "language": "python",
   "name": "python3"
  },
  "language_info": {
   "codemirror_mode": {
    "name": "ipython",
    "version": 3
   },
   "file_extension": ".py",
   "mimetype": "text/x-python",
   "name": "python",
   "nbconvert_exporter": "python",
   "pygments_lexer": "ipython3",
   "version": "3.6.5"
  }
 },
 "nbformat": 4,
 "nbformat_minor": 2
}
