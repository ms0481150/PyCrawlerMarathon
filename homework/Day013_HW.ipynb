{
 "cells": [
  {
   "cell_type": "markdown",
   "metadata": {},
   "source": [
    "# YAHOO電影爬蟲練習\n",
    "## 練習爬取電影放映資訊。必須逐步獲取電影的代號、放映地區、放映日期後，再送出查詢給伺服器。"
   ]
  },
  {
   "cell_type": "code",
   "execution_count": 1,
   "metadata": {},
   "outputs": [],
   "source": [
    "import requests\n",
    "import re\n",
    "from bs4 import BeautifulSoup"
   ]
  },
  {
   "cell_type": "markdown",
   "metadata": {},
   "source": [
    "### 先搜尋全部的電影代號(ID)資訊"
   ]
  },
  {
   "cell_type": "code",
   "execution_count": 2,
   "metadata": {},
   "outputs": [],
   "source": [
    "# 查看目前上映那些電影，並擷取出其ID資訊\n",
    "# url = 'https://movies.yahoo.com.tw/'\n",
    "url = \"https://movies.yahoo.com.tw/movie_intheaters.html\"\n",
    "response = requests.get(url)\n",
    "response.encoding = 'utf-8'\n",
    "\n",
    "result = BeautifulSoup(response.text, 'html5lib')\n",
    "#result"
   ]
  },
  {
   "cell_type": "code",
   "execution_count": 3,
   "metadata": {},
   "outputs": [
    {
     "name": "stdout",
     "output_type": "stream",
     "text": [
      "目前正在上映的電影： 共83筆，目前顯示1~10筆\n"
     ]
    }
   ],
   "source": [
    "on = result.find(class_ = \"release_box\").p.text\n",
    "print(\"目前正在上映的電影：\", on)"
   ]
  },
  {
   "cell_type": "code",
   "execution_count": 4,
   "metadata": {},
   "outputs": [
    {
     "name": "stdout",
     "output_type": "stream",
     "text": [
      "Movie: 蜘蛛人：無家日, ID: 11479\n",
      "Movie: 攀登者, ID: 11948\n",
      "Movie: 461個便當, ID: 11873\n",
      "Movie: 死亡教室：母校, ID: 11825\n",
      "Movie: 我從來不是幽默的女生, ID: 11824\n",
      "Movie: 天菜特警, ID: 11821\n",
      "Movie: 有你相伴的旅程, ID: 11757\n",
      "Movie: 魔仿犯, ID: 11739\n",
      "Movie: 北海浩劫, ID: 11711\n",
      "Movie: 終極生存戰, ID: 11708\n",
      "Movie: 藍宇, ID: 11695\n",
      "Movie: ANNETTE：星夢戀歌, ID: 11635\n",
      "Movie: 法蘭西特派週報, ID: 11633\n",
      "Movie: 麥迪遜之橋, ID: 11617\n",
      "Movie: 寶可夢：皮卡丘與可可的冒險, ID: 11607\n",
      "Movie: 大紅狗克里弗, ID: 11416\n",
      "Movie: 今晚來點史密斯, ID: 11805\n",
      "Movie: 最後一個平安夜, ID: 11765\n",
      "Movie: 仰望星空的少年, ID: 11764\n",
      "Movie: 小教父全新4K完整導演版, ID: 11682\n",
      "Movie: 哈利波特：神秘的魔法石, ID: 11677\n",
      "Movie: 詭祭, ID: 11649\n",
      "Movie: 爆裂戰警, ID: 11644\n",
      "Movie: 青春特調蜂蜜檸檬蘇打, ID: 11631\n",
      "Movie: 迷情蘇珊娜, ID: 11623\n",
      "Movie: 魔法少女☆伊莉雅：LICHT無名的少女, ID: 11606\n",
      "Movie: 獵魂者, ID: 11603\n",
      "Movie: 美國女孩, ID: 11600\n",
      "Movie: 生而為人, ID: 11589\n",
      "Movie: 天才貓奴畫家, ID: 11538\n",
      "Movie: 魔法滿屋, ID: 11736\n",
      "Movie: 偶然與想像, ID: 11597\n",
      "Movie: 電影之神, ID: 11568\n",
      "Movie: 惡靈古堡首部曲：拉昆市, ID: 11558\n",
      "Movie: 魔法阿媽, ID: 11552\n",
      "Movie: Fate/Grand Order-終局特異點 冠位時間神殿所羅門-, ID: 11550\n",
      "Movie: 阿查依蘭的呼喚, ID: 11378\n",
      "Movie: 月老, ID: 11563\n",
      "Movie: 濁水漂流, ID: 11622\n",
      "Movie: 金錢男孩MONEYBOYS, ID: 11522\n",
      "Movie: 青春弒戀, ID: 11508\n",
      "Movie: 王者理查, ID: 11442\n",
      "Movie: 達賴喇嘛：大腦故事, ID: 11593\n",
      "Movie: 安雅與魔女, ID: 11554\n",
      "Movie: 刀劍神域 –Progressive- 無星夜的詠嘆調, ID: 11504\n",
      "Movie: 詭扯, ID: 11491\n",
      "Movie: 梅艷芳, ID: 11419\n",
      "Movie: 迷離夜蘇活, ID: 11407\n",
      "Movie: 是誰得手林布蘭？, ID: 11531\n",
      "Movie: 永恆族, ID: 11472\n",
      "Movie: 我的英雄學院劇場版：世界英雄任務, ID: 11518\n",
      "Movie: 瀑布, ID: 11481\n",
      "Movie: 月光光新慌慌：萬聖殺, ID: 11414\n",
      "Movie: 猛毒2：血蜘蛛, ID: 11392\n",
      "Movie: 四個好日子, ID: 11516\n",
      "Movie: 鱷魚, ID: 11468\n",
      "Movie: 殺手保鑣2, ID: 10441\n",
      "Movie: 逃出奧斯威辛, ID: 11501\n",
      "Movie: 霹靂油俠, ID: 11494\n",
      "Movie: 007生死交戰, ID: 10406\n",
      "Movie: 蠟筆小新：謎案！天下春日部學院的怪奇事件, ID: 11506\n",
      "Movie: 金錢帝國：追虎擒龍, ID: 11497\n",
      "Movie: 高玩殺手, ID: 11482\n",
      "Movie: 疾凍救援, ID: 11406\n",
      "Movie: 抓狂演訓班, ID: 11485\n",
      "Movie: 算牌手, ID: 11480\n",
      "Movie: 汪汪隊立大功電影版, ID: 11411\n",
      "Movie: 心悸效應, ID: 11473\n",
      "Movie: 糖果人, ID: 10549\n",
      "Movie: 尚氣與十環傳奇, ID: 11374\n",
      "Movie: 脫稿玩家, ID: 11445\n",
      "Movie: 路卡的夏天, ID: 11268\n",
      "Movie: 自殺突擊隊：集結, ID: 11328\n",
      "Movie: 叢林奇航, ID: 10315\n",
      "Movie: 黑寡婦, ID: 10397\n",
      "Movie: 販膚走卒, ID: 11356\n",
      "Movie: 一級任務, ID: 11346\n",
      "Movie: 聽見歌 再唱, ID: 11232\n",
      "Movie: 醉好的時光, ID: 11223\n",
      "Movie: 尋龍使者：拉雅, ID: 11219\n"
     ]
    }
   ],
   "source": [
    "html = result.find(\"select\", attrs={'name':'movie_id'})\n",
    "\n",
    "#正則表達式，取出option且屬性為data-name=\"電影名稱\"的tag\n",
    "movie_item = html.find_all(\"option\", attrs={'data-name':re.compile('.*')})  \n",
    "\n",
    "for p in movie_item:\n",
    "    #tag中的其他屬性可以直接以dict的方式取用\n",
    "    print(\"Movie: %s, ID: %s\" % (p[\"data-name\"], p[\"value\"]))"
   ]
  },
  {
   "cell_type": "markdown",
   "metadata": {},
   "source": [
    "### 指定你有興趣的電影其ID，然後查詢其放映地區資訊。"
   ]
  },
  {
   "cell_type": "code",
   "execution_count": 5,
   "metadata": {},
   "outputs": [],
   "source": [
    "# 參考前一個步驟中擷取到的ID資訊，並指定ID\n",
    "movie_id = 11550"
   ]
  },
  {
   "cell_type": "code",
   "execution_count": 6,
   "metadata": {},
   "outputs": [
    {
     "name": "stdout",
     "output_type": "stream",
     "text": [
      "上映地區：台北市, 代號：28\n",
      "上映地區：新北市, 代號：8\n",
      "上映地區：桃園, 代號：16\n",
      "上映地區：新竹, 代號：20\n",
      "上映地區：台中, 代號：2\n",
      "上映地區：台南, 代號：10\n",
      "上映地區：高雄, 代號：17\n"
     ]
    }
   ],
   "source": [
    "url = 'https://movies.yahoo.com.tw/api/v1/areas_by_movie_theater'\n",
    "para = {'movie_id':str(movie_id)}\n",
    "\n",
    "# 模擬一個header\n",
    "headers = {\n",
    "    'authority': 'movies.yahoo.com.tw',\n",
    "    'method': 'GET',\n",
    "    'path': '/api/v1/areas_by_movie_theater?movie_id=' + str(movie_id),\n",
    "    'scheme': 'https',\n",
    "    'accept': 'application/json, text/javascript, */*; q=0.01',\n",
    "    'accept-encoding': 'gzip, deflate, br',\n",
    "    'accept-language': 'zh-TW,zh;q=0.9,en-US;q=0.8,en;q=0.7,zh-CN;q=0.6',\n",
    "    'cookie': 'rxx=9s3x2fws06.1g16irnc&v=1; _ga=GA1.3.2056742944.1551651301; GUC=AQEBAQFczFpdm0IfmwSB&s=AQAAACoo4N5D&g=XMsVBw; BX=4hkdk1decm57t&b=3&s=mr; _ga=GA1.4.2056742944.1551651301; nexagesuid=82843256dd234e8e91aa73f2062f8218; browsed_movie=eyJpdiI6IlJXWWtiSWJaZlNGK2MxQnhscnVUYWc9PSIsInZhbHVlIjoiMXRhMmVHRXRIeUNjc1RBWDJzdGYwbnlIQURmWGsrcjJSMzhkbkcraDNJVUNIZEZsbzU3amlFcVZ1NzlmazJrTGpoMjVrbHk1YmpoRENXaHZTOUw1TmI2ZTZVWHdOejZQZm16RmVuMWlHTTJLaTZLVFZZVkFOMDlTd1wvSGltcytJIiwibWFjIjoiZWQ2ZjA4MmVjZmZlYjlmNjJmYmY2NGMyMDI0Njc0NWViYjVkOWE2NDg0N2RhODMxZjBjZDhiMmJhZTc2MDZhYiJ9; avi=eyJpdiI6Im1NeWFJRlVRWDR1endEcGRGUGJUbVE9PSIsInZhbHVlIjoickRpU3JuUytmcGl6cjF5OW0rNU9iZz09IiwibWFjIjoiY2VmY2NkNzZmM2NhNjY5YzlkOTcyNjE5OGEyMzU0NWYxOTdmMDRkMDY3OWNmMmZjOTMxYjc5MjI5N2Q5NGE5MiJ9; cmp=t=1559391030&j=0; _gid=GA1.4.779543841.1559391031; XSRF-TOKEN=eyJpdiI6IkhpS2hGcDRQaHlmWUJmaHdSS2Q2bHc9PSIsInZhbHVlIjoiOUVoNFk4OHI1UUZmUWRtYXhza0MyWjJSTlhlZ3RnT0VGeVJPN2JuczVRMGRFdWt2OUlsamVKeHRobFwvcHBGM0dhU3VyMXNGTHlsb2dVM2l0U1hpUGxBPT0iLCJtYWMiOiJkZWU4YzJhNjAxMTY3MzE4Y2ExNWIxYmE1ZjE1YWZlZTlhOTcyYjc4M2RlZGY4ZWNjZDYyMTA2NGYwZGViMzc2In0%3D; m_s=eyJpdiI6InpsZHZ2Tk1BZ0dxaHhETml1RjBnUXc9PSIsInZhbHVlIjoiSkNGeHUranRoXC85bDFiaDhySTJqNkJRcWdjWUxjeVRJSHVYZ1wvd2d4bWJZUTUrSHVDM0lUcW5KNHdETFZ4T1lieU81OUhzc1VoUXhZcWk0UDZSQXVFdz09IiwibWFjIjoiYmJkMDJkMDhlODIzMzcyMWY4M2NmYWNjNGVlOWRjMDIwZmVmNzAyMjE3Yzg3ZGY3ODBkZWEzZTI4MTI5ZWNmOSJ9; _gat=1; nexagesd=10',\n",
    "    'dnt': '1',\n",
    "    'mv-authorization': '21835b082e15b91a69b3851eec7b31b82ce82afb',\n",
    "    'referer': 'https://movies.yahoo.com.tw/',\n",
    "    'user-agent': 'Mozilla/5.0 (Windows NT 10.0; Win64; x64) AppleWebKit/537.36 (KHTML, like Gecko) Chrome/74.0.3729.169 Safari/537.36',\n",
    "    'x-requested-with': 'XMLHttpRequest',\n",
    "}\n",
    "    \n",
    "response = requests.get(url=url, params=para, headers=headers)\n",
    "result = response.json()\n",
    "#result\n",
    "for data in result:\n",
    "    print(\"上映地區：{}, 代號：{}\".format(data[\"title\"], data[\"area_id\"]))\n"
   ]
  },
  {
   "cell_type": "markdown",
   "metadata": {},
   "source": [
    "### 指定你想要觀看的放映地區，查詢有上映電影的場次日期"
   ]
  },
  {
   "cell_type": "code",
   "execution_count": 7,
   "metadata": {},
   "outputs": [],
   "source": [
    "# 指定放映地區\n",
    "area_id = 28  #台北市"
   ]
  },
  {
   "cell_type": "code",
   "execution_count": 8,
   "metadata": {},
   "outputs": [],
   "source": [
    "# 向網站發送請求\n",
    "url = 'https://movies.yahoo.com.tw/movietime_result.html'\n",
    "para = {\n",
    "    'movie_id':str(movie_id), \n",
    "    'area_id':str(area_id)\n",
    "    }\n",
    "response = requests.get(url, params=para)\n",
    "response.encoding = 'utf-8'\n",
    "\n",
    "result = BeautifulSoup(response.text, 'html5lib')\n",
    "\n",
    "#時間的位置\n",
    "#   <label class=\"picker_label\" for=\"date_0\">\n",
    "#   <p class=\"month\">十二月</p>\n",
    "#   <h3 class=\"day\">15</h3>\n",
    "#   <p class=\"week\">今天</p>\n",
    "#</label>\n",
    "\n"
   ]
  },
  {
   "cell_type": "code",
   "execution_count": 9,
   "metadata": {},
   "outputs": [
    {
     "name": "stdout",
     "output_type": "stream",
     "text": [
      "十二月15日\n",
      "十二月16日\n",
      "十二月17日\n",
      "十二月18日\n",
      "十二月19日\n"
     ]
    }
   ],
   "source": [
    "movie_date = result.find_all(\"label\", attrs={'for':re.compile(\"date_[\\d]\")}) #正則表達式\n",
    "# 列印播放日期\n",
    "for date in movie_date:\n",
    "    print(\"{}{}日\".format(date.p.text, date.h3.text))"
   ]
  },
  {
   "cell_type": "markdown",
   "metadata": {},
   "source": [
    "### 最後指定觀看的日期，查詢並列印出放映的電影院、放映類型(數位、3D、IMAX 3D...)、放映時間等資訊。"
   ]
  },
  {
   "cell_type": "code",
   "execution_count": 10,
   "metadata": {},
   "outputs": [],
   "source": [
    "# 選定要觀看的日期\n",
    "date = \"2021-12-19\""
   ]
  },
  {
   "cell_type": "code",
   "execution_count": 11,
   "metadata": {},
   "outputs": [],
   "source": [
    "# 向網站發送請求，獲取上映的電影院及時間資訊\n",
    "url = \"https://movies.yahoo.com.tw/ajax/pc/get_schedule_by_movie\"\n",
    "para = {\n",
    "    'movie_id':str(movie_id),\n",
    "    'date':date,\n",
    "    'area_id':str(area_id),\n",
    "    'theater_id':'',\n",
    "    'datetime':'',\n",
    "    'movie_type_id':''\n",
    "}\n",
    "\n",
    "response = requests.get(url=url, params=para)\n",
    "result = BeautifulSoup(response.json()[\"view\"], \"html5lib\")"
   ]
  },
  {
   "cell_type": "code",
   "execution_count": 12,
   "metadata": {},
   "outputs": [
    {
     "name": "stdout",
     "output_type": "stream",
     "text": [
      "上映地點： 京站威秀影城\n",
      "放映類型： 數位\n",
      "場次時間： 09:00 \n",
      "\n"
     ]
    }
   ],
   "source": [
    "html =result.find_all(\"ul\", attrs={'data-theater_name':re.compile(\".*\")})\n",
    "for info in html:\n",
    "  print(\"上映地點：\", info.a.text)\n",
    "  print(\"放映類型：\", info.find(class_ = \"tapR\").text)\n",
    "  print(\"場次時間：\", info.find(class_ = \"select\").text, \"\\n\")"
   ]
  }
 ],
 "metadata": {
  "kernelspec": {
   "display_name": "Python 3",
   "language": "python",
   "name": "python3"
  },
  "language_info": {
   "codemirror_mode": {
    "name": "ipython",
    "version": 3
   },
   "file_extension": ".py",
   "mimetype": "text/x-python",
   "name": "python",
   "nbconvert_exporter": "python",
   "pygments_lexer": "ipython3",
   "version": "3.9.7"
  }
 },
 "nbformat": 4,
 "nbformat_minor": 2
}
